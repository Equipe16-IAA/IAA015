{
  "nbformat": 4,
  "nbformat_minor": 0,
  "metadata": {
    "colab": {
      "provenance": [],
      "gpuType": "T4",
      "authorship_tag": "ABX9TyOVIcgWsuhfsSLrdkn438fp",
      "include_colab_link": true
    },
    "kernelspec": {
      "name": "python3",
      "display_name": "Python 3"
    },
    "language_info": {
      "name": "python"
    },
    "accelerator": "GPU"
  },
  "cells": [
    {
      "cell_type": "markdown",
      "metadata": {
        "id": "view-in-github",
        "colab_type": "text"
      },
      "source": [
        "<a href=\"https://colab.research.google.com/github/Equipe16-IAA/IAA015/blob/main/IAA015_T%C3%B3picos_em_Intelig%C3%AAncia_Artificial.ipynb\" target=\"_parent\"><img src=\"https://colab.research.google.com/assets/colab-badge.svg\" alt=\"Open In Colab\"/></a>"
      ]
    },
    {
      "cell_type": "code",
      "execution_count": 15,
      "metadata": {
        "id": "_v516dpbRi4I"
      },
      "outputs": [],
      "source": [
        "import matplotlib.pyplot as plt\n",
        "import numpy as np\n",
        "import random\n"
      ]
    },
    {
      "cell_type": "markdown",
      "source": [
        "##Função a ser usada no exemplo"
      ],
      "metadata": {
        "id": "SLlTOZruSeWh"
      }
    },
    {
      "cell_type": "code",
      "source": [
        "def f(x):\n",
        "   return 3*x**2 - 2*x + 5"
      ],
      "metadata": {
        "id": "g2bv94joSiHU"
      },
      "execution_count": 16,
      "outputs": []
    },
    {
      "cell_type": "markdown",
      "source": [
        "Função bit to Vector"
      ],
      "metadata": {
        "id": "zZ8TlVmhS_n9"
      }
    },
    {
      "cell_type": "code",
      "source": [
        "def bit2vet(valor):\n",
        "  res = [];\n",
        "  for i in range(0,32):\n",
        "    if valor & (0x01<<i) > 0:\n",
        "      res.insert(0,1);\n",
        "    else:\n",
        "      res.insert(0,0);\n",
        "  return res;\n"
      ],
      "metadata": {
        "id": "89AsP3R3TEvK"
      },
      "execution_count": 17,
      "outputs": []
    },
    {
      "cell_type": "markdown",
      "source": [
        "Função bin to Number"
      ],
      "metadata": {
        "id": "nAKp4pONTOrF"
      }
    },
    {
      "cell_type": "code",
      "source": [
        "def bin2num(vet):\n",
        "  num = 0;\n",
        "  if vet[0] == 1:\n",
        "    # num negativos\n",
        "    for i in range(1,32):\n",
        "      if vet[i]==0:\n",
        "        num = num + 2**(31-i);\n",
        "    num = -1 - num;\n",
        "  else:\n",
        "    for i in range(1,32):\n",
        "      if vet[i]>0:\n",
        "        num = num + 2**(31-i);\n",
        "  return num;"
      ],
      "metadata": {
        "id": "iCXjQth8TQkM"
      },
      "execution_count": 18,
      "outputs": []
    },
    {
      "cell_type": "markdown",
      "source": [
        "População inicial"
      ],
      "metadata": {
        "id": "fTHxKM48TwUT"
      }
    },
    {
      "cell_type": "code",
      "source": [
        "#\n",
        "#  Passo 1 do AG, cria a populacao inicial\n",
        "#\n",
        "def populacaoInicial(tamanho):\n",
        "    resultado = [];\n",
        "    for x in range(tamanho):\n",
        "        resultado.append( random.randrange(-10,10) );\n",
        "    return resultado;"
      ],
      "metadata": {
        "id": "eIzbF_BiTycO"
      },
      "execution_count": 19,
      "outputs": []
    },
    {
      "cell_type": "markdown",
      "source": [
        "Avaliação (fit)"
      ],
      "metadata": {
        "id": "7Zdf5S9-T7ZJ"
      }
    },
    {
      "cell_type": "code",
      "source": [
        "def avaliacao(populacao):\n",
        "  fit = []\n",
        "  for v in populacao:\n",
        "    fx = v*v-3*v+4\n",
        "    if fx == 0:\n",
        "      fit.append( 999999 )\n",
        "    else:\n",
        "      fit.append( abs(1/fx) );\n",
        "  return fit;"
      ],
      "metadata": {
        "id": "c8NeAF7IT9H2"
      },
      "execution_count": 20,
      "outputs": []
    },
    {
      "cell_type": "markdown",
      "source": [
        "Preserva Melhor"
      ],
      "metadata": {
        "id": "VdtRM_MIUK4I"
      }
    },
    {
      "cell_type": "code",
      "source": [
        "def preservaMelhor(geracao,nova):\n",
        "  ava = avaliacao(geracao)\n",
        "  maior = 0;\n",
        "  for i in range(1,len(ava)):\n",
        "    #print(f'comparando {maior} ({geracao[maior]} : {ava[maior]}) com {i} ({geracao[i]} :{ava[i]}) ')\n",
        "    if ava[maior] < ava[i]:\n",
        "      maior = i\n",
        "  nova.append( geracao[maior] )\n",
        "  #print('melhor: ', nova, geracao[maior])\n",
        "  return geracao[maior]"
      ],
      "metadata": {
        "id": "NAat49NGUMfE"
      },
      "execution_count": 21,
      "outputs": []
    },
    {
      "cell_type": "markdown",
      "source": [
        "Cruzamento"
      ],
      "metadata": {
        "id": "lSI59IEOUbtC"
      }
    },
    {
      "cell_type": "code",
      "source": [
        "def cruzamento(pop, qdade, nova):\n",
        "  qdeSaida = len(nova) + qdade\n",
        "  while len(nova)<qdeSaida:\n",
        "    indA = random.randrange(0,len(pop));\n",
        "    indB = indA;\n",
        "    while indA==indB:\n",
        "      indB = random.randrange(0,len(pop));\n",
        "    # adapta a escala de valores de -10:10 para 0:20\n",
        "    p1 = pop[indA]+10\n",
        "    p2 =  pop[indB]+10\n",
        "    v1 = bit2vet( p1 );\n",
        "    v2 = bit2vet( p2 );\n",
        "    corte = random.randrange(28,31);\n",
        "    novoV1 =  v1[0:corte];\n",
        "    novoV1.extend( v2[corte:] );\n",
        "    novoV2 =  v2[0:corte];\n",
        "    novoV2.extend( v1[corte:] );\n",
        "    # print( 'saida 1 (v1,corte,v2) ',v1[0:corte], v2[corte:])\n",
        "    # print( 'saida 2 (v2,corte,v1) ',v2[0:corte], v1[corte:])\n",
        "    v1num = bin2num(novoV1)-10;\n",
        "    if v1num >= -10 and v1num<= 10:\n",
        "      nova.append( v1num );\n",
        "    if len(nova)<qdeSaida:\n",
        "      v2num = bin2num(novoV2)-10;\n",
        "      if v2num >= -10 and v2num<= 10:\n",
        "        nova.append( v2num );\n"
      ],
      "metadata": {
        "id": "DuSv7nlIUdHR"
      },
      "execution_count": 22,
      "outputs": []
    },
    {
      "cell_type": "markdown",
      "source": [
        "Mutação"
      ],
      "metadata": {
        "id": "mNVVrR8LU1aI"
      }
    },
    {
      "cell_type": "code",
      "source": [
        "def mutacao(pop, qdade, novo):\n",
        "  qdeSaida = len(nova) + qdade\n",
        "  while len(nova)<qdeSaida:\n",
        "    indA = random.randrange(0,len(pop));\n",
        "    p1 = pop[indA]+10\n",
        "    v1 = bit2vet( p1 );\n",
        "    pos = random.randrange(27,32);\n",
        "    if v1[pos] == 0:\n",
        "      v1[pos] = 1;\n",
        "    else:\n",
        "      v1[pos] = 0;\n",
        "    v1num = bin2num(v1)-10;\n",
        "    if v1num>=-10 and v1num<=10:\n",
        "      novo.append( v1num );\n"
      ],
      "metadata": {
        "id": "f6Ewct_zU2yR"
      },
      "execution_count": 23,
      "outputs": []
    },
    {
      "cell_type": "markdown",
      "source": [
        "##Visualizando a função"
      ],
      "metadata": {
        "id": "cyLzbISSSjVw"
      }
    },
    {
      "cell_type": "code",
      "source": [
        "x_values = np.linspace(-10, 10, 100)\n",
        "y_values = f(x_values)\n",
        "plt.plot(x_values, y_values)\n",
        "plt.title(\"Gráfico cartesiano para f(x) = 3x^2 - 2x + 5\")\n",
        "plt.xlabel(\"x\")\n",
        "plt.ylabel(\"f(x)\")\n",
        "plt.show()\n"
      ],
      "metadata": {
        "colab": {
          "base_uri": "https://localhost:8080/",
          "height": 472
        },
        "id": "Wwm8QTQ5SoAU",
        "outputId": "ba13eada-9c6b-459f-88c2-6af6837296e2"
      },
      "execution_count": 24,
      "outputs": [
        {
          "output_type": "display_data",
          "data": {
            "text/plain": [
              "<Figure size 640x480 with 1 Axes>"
            ],
            "image/png": "[encoded data removed]"
          },
          "metadata": {}
        }
      ]
    },
    {
      "cell_type": "markdown",
      "source": [
        "Executando o Algoritmo Genético"
      ],
      "metadata": {
        "id": "AMfuz-NzVHIu"
      }
    },
    {
      "cell_type": "code",
      "source": [
        "# passo 1\n",
        "p0 = populacaoInicial(5);\n",
        "print(\"Pop inicial: \",end='');\n",
        "print(p0);\n",
        "# avalia a pop. inicial\n",
        "a0 = avaliacao(p0);\n",
        "#print(p0);\n",
        "print(a0)\n",
        "\n",
        "# fazemos a iteração, passos 3,4 e 5 do AG\n",
        "geracao = p0;\n",
        "numGeracoes = 5;\n",
        "while numGeracoes>0:\n",
        "  nova = [];\n",
        "  preservaMelhor(geracao,nova);\n",
        "  cruzamento(geracao, 3, nova);\n",
        "  mutacao(geracao, 1, nova);\n",
        "  numGeracoes=numGeracoes-1;\n",
        "  av = avaliacao(nova);\n",
        "  # ordena a geracao com base na avaliacao\n",
        "  nova2 = sorted(zip(av,nova),reverse=True)\n",
        "  geracao = [x for _,x in nova2]\n",
        "  print( f'Geracao {numGeracoes} pop= {geracao}')\n",
        "\n",
        "print(f'A melhor solucao encontrada: {geracao[0]}')\n"
      ],
      "metadata": {
        "colab": {
          "base_uri": "https://localhost:8080/"
        },
        "id": "VLthQHlNVKcf",
        "outputId": "617bd97a-6d01-400d-ab2d-86894d88544a"
      },
      "execution_count": 25,
      "outputs": [
        {
          "output_type": "stream",
          "name": "stdout",
          "text": [
            "Pop inicial: [-2, -4, -9, -6, -4]\n",
            "[0.07142857142857142, 0.03125, 0.008928571428571428, 0.017241379310344827, 0.03125]\n",
            "Geracao 4 pop= [-1, -2, -2, -4, -6]\n",
            "Geracao 3 pop= [2, 2, -1, -2, -6]\n",
            "Geracao 2 pop= [2, 2, -2, -2, -6]\n",
            "Geracao 1 pop= [2, 2, -4, -6, -6]\n",
            "Geracao 0 pop= [2, -4, -4, -6, -8]\n",
            "A melhor solucao encontrada: 2\n"
          ]
        }
      ]
    }
  ]
}