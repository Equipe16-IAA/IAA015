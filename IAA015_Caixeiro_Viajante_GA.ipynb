{
  "nbformat": 4,
  "nbformat_minor": 0,
  "metadata": {
    "colab": {
      "provenance": [],
      "authorship_tag": "ABX9TyOnoLx0pUtHq2v2RFIHihyP",
      "include_colab_link": true
    },
    "kernelspec": {
      "name": "python3",
      "display_name": "Python 3"
    },
    "language_info": {
      "name": "python"
    }
  },
  "cells": [
    {
      "cell_type": "markdown",
      "metadata": {
        "id": "view-in-github",
        "colab_type": "text"
      },
      "source": [
        "<a href=\"https://colab.research.google.com/github/Equipe16-IAA/IAA015/blob/main/IAA015_Caixeiro_Viajante_GA.ipynb\" target=\"_parent\"><img src=\"https://colab.research.google.com/assets/colab-badge.svg\" alt=\"Open In Colab\"/></a>"
      ]
    },
    {
      "cell_type": "code",
      "execution_count": 2,
      "metadata": {
        "id": "dwFHexaFamJc"
      },
      "outputs": [],
      "source": [
        "import numpy as np\n",
        "import random"
      ]
    },
    {
      "cell_type": "markdown",
      "source": [
        "#Criando as funções principais do Algorítmo Genético"
      ],
      "metadata": {
        "id": "_Z-B8FViavcC"
      }
    },
    {
      "cell_type": "markdown",
      "source": [
        "###População Inicial"
      ],
      "metadata": {
        "id": "pEtL4D47bHwQ"
      }
    },
    {
      "cell_type": "code",
      "source": [
        "#\n",
        "#  Passo 1 do AG, cria a populacao inicial\n",
        "#\n",
        "# Distancias, para 5 cidades\n",
        "#   A   B  C   D   E\n",
        "# A [0, 10, 15, 5, 12],\n",
        "# B [10, 0, 70, 52, 27],\n",
        "# C [15, 70, 0, 120, 14],\n",
        "# D [5, 52, 120, 0, 38],\n",
        "# E [12, 27, 14, 38, 0]\n",
        "\n",
        "\n",
        "#Vetor de Quantidade de Cidades, e seu percurso\n",
        "\n",
        "def populacaoInicial(tamanho, qtecidades):\n",
        "  percursos = []\n",
        "  percurso = []\n",
        "  for i in range(0, tamanho):\n",
        "    cidades = list(range(1, qtecidades+1))\n",
        "    listaCidades = cidades.copy()\n",
        "    for cidade in cidades:\n",
        "      cidadePercurso = random.choice(listaCidades)\n",
        "      listaCidades.remove(cidadePercurso)\n",
        "      percurso.append(cidadePercurso)\n",
        "    percursos.append(percurso)\n",
        "    percurso = []\n",
        "    cidades = []\n",
        "  return percursos;"
      ],
      "metadata": {
        "id": "YfJivhUCbNJW"
      },
      "execution_count": 57,
      "outputs": []
    },
    {
      "cell_type": "markdown",
      "source": [
        "###Função de Avaliação (fit)"
      ],
      "metadata": {
        "id": "cNLXrokadReO"
      }
    },
    {
      "cell_type": "code",
      "source": [
        "def FuncaoDeAvaliacao(percursos, distanciaCidades):\n",
        "  soma_distancia = np.zeros(len(percursos));\n",
        "  cidadeAnterior = 0;\n",
        "  cidadeInicial = 0;\n",
        "  cidadeFinal = 0;\n",
        "  for index, percurso in enumerate(percursos):\n",
        "    for cidade in percurso:\n",
        "      if cidadeAnterior == 0:\n",
        "        cidadeAnterior = cidade;\n",
        "        cidadeInicial = cidade;\n",
        "      elif cidadeAnterior == cidade:\n",
        "        continue\n",
        "      else:\n",
        "        soma_distancia[index] += distanciaCidades[cidadeAnterior - 1][cidade - 1];\n",
        "      cidadeAnterior = cidade;\n",
        "    cidadeFinal = cidade;\n",
        "    soma_distancia[index] += distanciaCidades[cidadeFinal - 1][cidadeInicial - 1];\n",
        "    cidadeAnterior = 0\n",
        "    cidadeInicial = 0\n",
        "    cidadeFinal = 0\n",
        "  return soma_distancia;\n",
        ""
      ],
      "metadata": {
        "id": "K6BJIJt3dUC3"
      },
      "execution_count": 148,
      "outputs": []
    },
    {
      "cell_type": "markdown",
      "source": [
        "###Preserva Melhor Geração"
      ],
      "metadata": {
        "id": "Y8HPGwZ9877s"
      }
    },
    {
      "cell_type": "code",
      "source": [
        "def preservaMelhor(geracao):\n",
        "  avaliacao = FuncaoDeAvaliacao(geracao, distanciasCidades)\n",
        "  maior = 0\n",
        "  for i in range(len(avaliacao)):\n",
        "    if avaliacao[maior] > avaliacao[i]:\n",
        "      maior = i\n",
        "  print(avaliacao[maior])\n",
        "  return geracao[maior]\n"
      ],
      "metadata": {
        "id": "TPUgarPc8_FD"
      },
      "execution_count": 161,
      "outputs": []
    },
    {
      "cell_type": "markdown",
      "source": [
        "##Execução do Algoritmo Genético"
      ],
      "metadata": {
        "id": "a9ebUmxd_LBs"
      }
    },
    {
      "cell_type": "code",
      "source": [
        "#   A   B  C   D   E\n",
        "# A [0, 10, 15, 5, 12],\n",
        "# B [10, 0, 70, 52, 27],\n",
        "# C [15, 70, 0, 120, 14],\n",
        "# D [5, 52, 120, 0, 38],\n",
        "# E [12, 27, 14, 38, 0]\n",
        "\n",
        "distanciasCidades = [[0, 10, 15, 5, 12], [10, 0, 70, 52, 27], [15, 70, 0, 120, 14], [5, 52, 120, 0, 38], [12, 27, 14, 38, 0]]\n",
        "cidades = [1, 2, 3, 4, 5]\n",
        "cidadesNomes = [\"A\", \"B\", \"C\", \"D\", \"E\"]\n",
        "distanciaPercorrida = 0\n",
        "\n",
        "p0 = populacaoInicial(10, 5)\n",
        "\n",
        "for i in p0:\n",
        "  for j in i:\n",
        "    print(cidadesNomes[j-1], end=\" \")\n",
        "    print(\"->\", end=\" \")\n",
        "  print()\n",
        "\n",
        "print(p0)\n",
        "\n",
        "avaliacaoP0 = FuncaoDeAvaliacao(p0, distanciasCidades)\n",
        "print(avaliacaoP0)\n",
        "\n",
        "melhorDaGeracao = preservaMelhor(p0)\n",
        "print(melhorDaGeracao)\n",
        "\n"
      ],
      "metadata": {
        "colab": {
          "base_uri": "https://localhost:8080/"
        },
        "id": "44Fzd9aKkHVE",
        "outputId": "e3c1b0ea-cff0-450e-945c-f0c5a109db76"
      },
      "execution_count": 162,
      "outputs": [
        {
          "output_type": "stream",
          "name": "stdout",
          "text": [
            "E -> B -> D -> A -> C -> \n",
            "D -> A -> C -> B -> E -> \n",
            "C -> D -> B -> E -> A -> \n",
            "B -> A -> C -> D -> E -> \n",
            "B -> D -> A -> C -> E -> \n",
            "E -> A -> D -> C -> B -> \n",
            "C -> A -> E -> B -> D -> \n",
            "A -> B -> E -> D -> C -> \n",
            "A -> B -> E -> C -> D -> \n",
            "C -> D -> E -> A -> B -> \n",
            "[[5, 2, 4, 1, 3], [4, 1, 3, 2, 5], [3, 4, 2, 5, 1], [2, 1, 3, 4, 5], [2, 4, 1, 3, 5], [5, 1, 4, 3, 2], [3, 1, 5, 2, 4], [1, 2, 5, 4, 3], [1, 2, 5, 3, 4], [3, 4, 5, 1, 2]]\n",
            "[113. 155. 226. 210. 113. 234. 226. 210. 176. 250.]\n",
            "113.0\n",
            "[5, 2, 4, 1, 3]\n"
          ]
        }
      ]
    }
  ]
}